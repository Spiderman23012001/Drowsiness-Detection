{
 "cells": [
  {
   "cell_type": "code",
   "execution_count": null,
   "metadata": {},
   "outputs": [],
   "source": [
    "import os\n",
    "import numpy as np\n",
    "import glob\n",
    "import shutil\n",
    "import dlib\n",
    "import time\n",
    "import cv2\n",
    "from scipy.spatial import distance as dist"
   ]
  },
  {
   "cell_type": "markdown",
   "metadata": {},
   "source": [
    "## Tinh khau do mieng va mat"
   ]
  },
  {
   "cell_type": "code",
   "execution_count": null,
   "metadata": {},
   "outputs": [],
   "source": [
    "# đầu vào mắt trái [36,41] mắt phải [42,47]\n",
    "def eye_aspect_ratio(eye):\n",
    "    A = dist.euclidean(eye[1],eye[5])\n",
    "    B = dist.euclidean(eye[2],eye[4])\n",
    "    C = dist.euclidean(eye[0],eye[3])\n",
    "    ear = (A+B)/(2.0*C)\n",
    "    return ear\n",
    "\n",
    "# đầu vào các điểm [60-67]\n",
    "def mouth_aspect_ratio(mouth):\n",
    "    A = dist.euclidean(mouth[1],mouth[7])\n",
    "    B = dist.euclidean(mouth[2],mouth[6])\n",
    "    C = dist.euclidean(mouth[3],mouth[5])\n",
    "    D = dist.euclidean(mouth[0],mouth[4])\n",
    "    mar = (A+B+C)/(2.0*D)\n",
    "    return mar"
   ]
  },
  {
   "cell_type": "markdown",
   "metadata": {},
   "source": [
    "## Danh nhan cho 1 anh"
   ]
  },
  {
   "cell_type": "code",
   "execution_count": null,
   "metadata": {},
   "outputs": [],
   "source": [
    "def label_img(img_path):\n",
    "    EAR = 0\n",
    "    MAR = 0\n",
    "    start_time = time.time()\n",
    "    img = cv2.imread(img_path)\n",
    "    detector = dlib.get_frontal_face_detector() # Load face detector\n",
    "    path_landmark = \"./shape_predictor_68_face_landmarks.dat\"\n",
    "    predictor = dlib.shape_predictor(path_landmark)\n",
    "    dets = detector(img,upsample_num_times=0)\n",
    "    for d in dets:\n",
    "        shape = predictor(img, d)\n",
    "\n",
    "        # tọa độ mắt trái (indexes 36 - 41)\n",
    "        left_eye_landmarks = [(shape.part(i).x, shape.part(i).y) for i in range(36, 42)]\n",
    "\n",
    "        # tọa độ mắt phải (indexes 42 - 47)\n",
    "        right_eye_landmarks = [(shape.part(i).x, shape.part(i).y) for i in range(42, 48)]\n",
    "        \n",
    "        # lấy tọa độ các điểm cho miệng\n",
    "        mouth_landmark = [(shape.part(i).x, shape.part(i).y) for i in range(60, 68)]\n",
    "\n",
    "        # tính ear\n",
    "        ear_l = eye_aspect_ratio(left_eye_landmarks)\n",
    "        ear_r = eye_aspect_ratio(right_eye_landmarks)\n",
    "        EAR = (ear_l + ear_r)/2.0\n",
    "\n",
    "        # Tinsh mieenjg\n",
    "        MAR = mouth_aspect_ratio(mouth_landmark)\n",
    "\n",
    "\n",
    "    \n",
    "    end_time = time.time() - start_time\n",
    "    print(\"Time: \",end_time)\n",
    "    print(\"EAR: \",EAR)\n",
    "    print(\"MAR: \",MAR)\n",
    "    return EAR,MAR"
   ]
  },
  {
   "cell_type": "markdown",
   "metadata": {},
   "source": [
    "## Danh nhan cho tat ca anh"
   ]
  },
  {
   "cell_type": "code",
   "execution_count": null,
   "metadata": {},
   "outputs": [],
   "source": [
    "folder_path = 'frame_from_video'\n",
    "yawn_folder = 'yawn'\n",
    "microsleep_folder = 'microsleep'\n",
    "normal_folder = 'normal'\n",
    "\n",
    "# Tìm tất cả các tệp .jpg trong thư mục và các thư mục con\n",
    "jpg_files = glob.glob(os.path.join(folder_path, '**', '*.jpg'), recursive=True)\n",
    "\n",
    "\n",
    "for file_path in jpg_files:\n",
    "    EAR, MAR = label_img(file_path)\n",
    "    if EAR >= 0.5:\n",
    "        shutil.move(file_path, os.path.join(yawn_folder, file_path))\n",
    "    if EAR <= 0.2 and MAR <= 0.5:\n",
    "        shutil.move(file_path, os.path.join(microsleep_folder, file_path))\n",
    "    if MAR < 0.5 and EAR > 0.2:\n",
    "        shutil.move(file_path, os.path.join(normal_folder, file_path))"
   ]
  }
 ],
 "metadata": {
  "language_info": {
   "name": "python"
  }
 },
 "nbformat": 4,
 "nbformat_minor": 2
}
