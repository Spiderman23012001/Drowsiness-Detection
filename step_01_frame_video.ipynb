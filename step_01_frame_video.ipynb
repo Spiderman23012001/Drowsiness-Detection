{
 "cells": [
  {
   "cell_type": "code",
   "execution_count": 1,
   "metadata": {},
   "outputs": [
    {
     "name": "stdout",
     "output_type": "stream",
     "text": [
      "FPS:  30.0\n",
      "Tổng số khung hình trong video: 767.0\n"
     ]
    }
   ],
   "source": [
    "import cv2\n",
    "\n",
    "# Mở video\n",
    "cap = cv2.VideoCapture('2024-07-05-190726.webm')\n",
    "\n",
    "# Lấy tổng số khung hình\n",
    "total_frames = cap.get(cv2.CAP_PROP_FRAME_COUNT)\n",
    "print(\"FPS: \", cap.get(cv2.CAP_PROP_FPS))\n",
    "print(\"Tổng số khung hình trong video:\", total_frames)\n",
    "\n",
    "# Giải phóng video\n",
    "cap.release()\n"
   ]
  },
  {
   "cell_type": "code",
   "execution_count": 2,
   "metadata": {},
   "outputs": [
    {
     "name": "stdout",
     "output_type": "stream",
     "text": [
      "FPS video:  30.0\n",
      "Tong so frame video 767\n"
     ]
    }
   ],
   "source": [
    "import cv2\n",
    "import os\n",
    "\n",
    "def extract_frames(video_path, output_folder):\n",
    "    # Tạo một đối tượng VideoCapture\n",
    "    cap = cv2.VideoCapture(video_path)\n",
    "\n",
    "    # Kiểm tra xem video có được mở thành công không\n",
    "    if not cap.isOpened():\n",
    "        print(\"Không thể mở video.\")\n",
    "        return\n",
    "\n",
    "    # Tạo thư mục lưu trữ frame nếu nó chưa tồn tại\n",
    "    if not os.path.exists(output_folder):\n",
    "        os.makedirs(output_folder)\n",
    "\n",
    "    # Đếm số frame\n",
    "    frame_count = 0\n",
    "\n",
    "    # Tần suất frame cắt (1s cắt 25 frame)\n",
    "    frames_per_second = 4\n",
    "\n",
    "    # Lấy tổng số frame\n",
    "    total_frames = int(cap.get(cv2.CAP_PROP_FRAME_COUNT))\n",
    "    fps_video = cap.get(cv2.CAP_PROP_FPS)\n",
    "    print(\"FPS video: \",fps_video)\n",
    "    print(\"Tong so frame video\", total_frames)\n",
    "\n",
    "    # Đọc từng frame từ video và lưu vào thư mục\n",
    "    while True:\n",
    "        # Đọc một frame\n",
    "        ret, frame = cap.read()\n",
    "\n",
    "        # Kiểm tra nếu không còn frame nào hoặc có lỗi xảy ra\n",
    "        if not ret:\n",
    "            break\n",
    "\n",
    "        # Kiểm tra nếu đến điểm cắt frame\n",
    "        if frame_count % fps_video == 0:\n",
    "            # Ghi frame vào thư mục\n",
    "            frame_path = os.path.join(output_folder, f\"frame_{frame_count:04d}.jpg\")\n",
    "            cv2.imwrite(frame_path, frame)\n",
    "\n",
    "        # Tăng biến đếm frame\n",
    "        frame_count += 1\n",
    "\n",
    "    # Giải phóng các tài nguyên\n",
    "    cap.release()\n",
    "    cv2.destroyAllWindows()\n",
    "\n",
    "\n",
    "# Sử dụng hàm extract_frames\n",
    "video_path = r'2024-07-05-190726.webm'\n",
    "output_folder = r'out'\n",
    "extract_frames(video_path, output_folder)\n"
   ]
  }
 ],
 "metadata": {
  "kernelspec": {
   "display_name": "base",
   "language": "python",
   "name": "python3"
  },
  "language_info": {
   "codemirror_mode": {
    "name": "ipython",
    "version": 3
   },
   "file_extension": ".py",
   "mimetype": "text/x-python",
   "name": "python",
   "nbconvert_exporter": "python",
   "pygments_lexer": "ipython3",
   "version": "3.11.7"
  }
 },
 "nbformat": 4,
 "nbformat_minor": 2
}
